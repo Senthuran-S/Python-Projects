{
 "cells": [
  {
   "cell_type": "code",
   "execution_count": 22,
   "id": "9e9e3785",
   "metadata": {},
   "outputs": [],
   "source": [
    "import os, shutil"
   ]
  },
  {
   "cell_type": "code",
   "execution_count": 23,
   "id": "68b7bc2b",
   "metadata": {},
   "outputs": [],
   "source": [
    "path = r\"C:/Users/Senthuran/Automatic File explorer project/\""
   ]
  },
  {
   "cell_type": "code",
   "execution_count": 24,
   "id": "957b2a29",
   "metadata": {},
   "outputs": [],
   "source": [
    "file_name = os.listdir(path)"
   ]
  },
  {
   "cell_type": "code",
   "execution_count": 25,
   "id": "27d95dad",
   "metadata": {},
   "outputs": [],
   "source": [
    "folder_names = ['Excel files', 'Text files', 'Image files', 'Bitmap files', 'Word Docs']\n",
    "\n",
    "for loop in range(0,5):\n",
    "    if not os.path.exists(path + folder_names[loop]):\n",
    "        #print(path + folder_names[loop])\n",
    "        os.makedirs(path + folder_names[loop])"
   ]
  },
  {
   "cell_type": "code",
   "execution_count": 26,
   "id": "02262d33",
   "metadata": {},
   "outputs": [],
   "source": [
    "for file in file_name:\n",
    "    if \".xlsx\" in file and not os.path.exists(path + \"Excel files/\" + file):\n",
    "        shutil.move(path + file,path + \"Excel files/\" + file)\n",
    "    if \".txt\" in file and not os.path.exists(path + \"Text files/\" + file):\n",
    "        shutil.move(path + file,path + \"Text files/\" + file)\n",
    "    if \".png\" in file and not os.path.exists(path + \"Image files/\" + file):\n",
    "        shutil.move(path + file,path + \"Image files/\" + file)\n",
    "    if \".bmp\" in file and not os.path.exists(path + \"Bitmap files/\" + file):\n",
    "        shutil.move(path + file,path + \"Bitmap files/\" + file)\n",
    "    if \".docx\" in file and not os.path.exists(path + \"Word Docs/\" + file):\n",
    "        shutil.move(path + file,path + \"Word Docs/\" + file)"
   ]
  },
  {
   "cell_type": "code",
   "execution_count": null,
   "id": "82dda0b2",
   "metadata": {},
   "outputs": [],
   "source": []
  }
 ],
 "metadata": {
  "kernelspec": {
   "display_name": "Python 3 (ipykernel)",
   "language": "python",
   "name": "python3"
  },
  "language_info": {
   "codemirror_mode": {
    "name": "ipython",
    "version": 3
   },
   "file_extension": ".py",
   "mimetype": "text/x-python",
   "name": "python",
   "nbconvert_exporter": "python",
   "pygments_lexer": "ipython3",
   "version": "3.11.4"
  }
 },
 "nbformat": 4,
 "nbformat_minor": 5
}
